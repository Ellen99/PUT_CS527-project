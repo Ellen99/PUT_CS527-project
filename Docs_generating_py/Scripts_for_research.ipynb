{
 "cells": [
  {
   "cell_type": "code",
   "execution_count": 5,
   "id": "73dd6faf-619f-4f98-850f-24215cb45197",
   "metadata": {},
   "outputs": [
    {
     "name": "stdout",
     "output_type": "stream",
     "text": [
      "Defaulting to user installation because normal site-packages is not writeable\n",
      "Requirement already satisfied: gspread in /Users/elen_chatikyan/Library/Python/3.9/lib/python/site-packages (6.0.1)\n",
      "Requirement already satisfied: oauth2client in /Users/elen_chatikyan/Library/Python/3.9/lib/python/site-packages (4.1.3)\n",
      "Requirement already satisfied: google-auth>=1.12.0 in /Users/elen_chatikyan/Library/Python/3.9/lib/python/site-packages (from gspread) (2.27.0)\n",
      "Requirement already satisfied: google-auth-oauthlib>=0.4.1 in /Users/elen_chatikyan/Library/Python/3.9/lib/python/site-packages (from gspread) (1.2.0)\n",
      "Requirement already satisfied: StrEnum==0.4.15 in /Users/elen_chatikyan/Library/Python/3.9/lib/python/site-packages (from gspread) (0.4.15)\n",
      "Requirement already satisfied: httplib2>=0.9.1 in /Users/elen_chatikyan/Library/Python/3.9/lib/python/site-packages (from oauth2client) (0.22.0)\n",
      "Requirement already satisfied: pyasn1>=0.1.7 in /Users/elen_chatikyan/Library/Python/3.9/lib/python/site-packages (from oauth2client) (0.5.1)\n",
      "Requirement already satisfied: pyasn1-modules>=0.0.5 in /Users/elen_chatikyan/Library/Python/3.9/lib/python/site-packages (from oauth2client) (0.3.0)\n",
      "Requirement already satisfied: rsa>=3.1.4 in /Users/elen_chatikyan/Library/Python/3.9/lib/python/site-packages (from oauth2client) (4.9)\n",
      "Requirement already satisfied: six>=1.6.1 in /Library/Developer/CommandLineTools/Library/Frameworks/Python3.framework/Versions/3.9/lib/python3.9/site-packages (from oauth2client) (1.15.0)\n",
      "Requirement already satisfied: cachetools<6.0,>=2.0.0 in /Users/elen_chatikyan/Library/Python/3.9/lib/python/site-packages (from google-auth>=1.12.0->gspread) (5.3.2)\n",
      "Requirement already satisfied: requests-oauthlib>=0.7.0 in /Users/elen_chatikyan/Library/Python/3.9/lib/python/site-packages (from google-auth-oauthlib>=0.4.1->gspread) (1.3.1)\n",
      "Requirement already satisfied: pyparsing!=3.0.0,!=3.0.1,!=3.0.2,!=3.0.3,<4,>=2.4.2 in /Users/elen_chatikyan/Library/Python/3.9/lib/python/site-packages (from httplib2>=0.9.1->oauth2client) (3.1.1)\n",
      "Requirement already satisfied: oauthlib>=3.0.0 in /Users/elen_chatikyan/Library/Python/3.9/lib/python/site-packages (from requests-oauthlib>=0.7.0->google-auth-oauthlib>=0.4.1->gspread) (3.2.2)\n",
      "Requirement already satisfied: requests>=2.0.0 in /Users/elen_chatikyan/Library/Python/3.9/lib/python/site-packages (from requests-oauthlib>=0.7.0->google-auth-oauthlib>=0.4.1->gspread) (2.31.0)\n",
      "Requirement already satisfied: charset-normalizer<4,>=2 in /Users/elen_chatikyan/Library/Python/3.9/lib/python/site-packages (from requests>=2.0.0->requests-oauthlib>=0.7.0->google-auth-oauthlib>=0.4.1->gspread) (3.2.0)\n",
      "Requirement already satisfied: idna<4,>=2.5 in /Users/elen_chatikyan/Library/Python/3.9/lib/python/site-packages (from requests>=2.0.0->requests-oauthlib>=0.7.0->google-auth-oauthlib>=0.4.1->gspread) (3.4)\n",
      "Requirement already satisfied: urllib3<3,>=1.21.1 in /Users/elen_chatikyan/Library/Python/3.9/lib/python/site-packages (from requests>=2.0.0->requests-oauthlib>=0.7.0->google-auth-oauthlib>=0.4.1->gspread) (2.0.5)\n",
      "Requirement already satisfied: certifi>=2017.4.17 in /Users/elen_chatikyan/Library/Python/3.9/lib/python/site-packages (from requests>=2.0.0->requests-oauthlib>=0.7.0->google-auth-oauthlib>=0.4.1->gspread) (2023.7.22)\n",
      "\n",
      "\u001b[1m[\u001b[0m\u001b[34;49mnotice\u001b[0m\u001b[1;39;49m]\u001b[0m\u001b[39;49m A new release of pip is available: \u001b[0m\u001b[31;49m23.3.2\u001b[0m\u001b[39;49m -> \u001b[0m\u001b[32;49m24.0\u001b[0m\n",
      "\u001b[1m[\u001b[0m\u001b[34;49mnotice\u001b[0m\u001b[1;39;49m]\u001b[0m\u001b[39;49m To update, run: \u001b[0m\u001b[32;49m/Library/Developer/CommandLineTools/usr/bin/python3 -m pip install --upgrade pip\u001b[0m\n",
      "Note: you may need to restart the kernel to use updated packages.\n"
     ]
    }
   ],
   "source": [
    "pip install gspread oauth2client"
   ]
  },
  {
   "cell_type": "code",
   "execution_count": 28,
   "id": "180a23ad-e814-4ecd-ad41-28dbb2f55475",
   "metadata": {},
   "outputs": [],
   "source": [
    "import gspread\n",
    "from oauth2client.service_account import ServiceAccountCredentials\n",
    "\n",
    "def find_unique_classes_with_failures_or_errors(sheet_url):\n",
    "    try:\n",
    "        # Connect to Google Sheets API\n",
    "        scope = ['https://spreadsheets.google.com/feeds', 'https://www.googleapis.com/auth/drive']\n",
    "        creds = ServiceAccountCredentials.from_json_keyfile_name('credentials.json', scope)\n",
    "        client = gspread.authorize(creds)\n",
    "        \n",
    "        # Open the Google Sheets document\n",
    "        sheet = client.open_by_url(sheet_url)\n",
    "        worksheet = sheet.get_worksheet(0)  # Assuming data is in the first worksheet\n",
    "        \n",
    "        # Get all values from the sheet\n",
    "        all_data = worksheet.get_all_records()\n",
    "        \n",
    "        # Find unique 'Class Name' columns for which either 'Failure_C' or 'Errors_C' is greater than 0\n",
    "        unique_classes = set()\n",
    "        for row in all_data:\n",
    "            if row['Failure_C'] > 0 or row['Errors_C'] > 0:\n",
    "                unique_classes.add(row['Class Name'])\n",
    "        \n",
    "        if unique_classes:\n",
    "            print(\"Unique 'Class Name' columns for which either 'Failure_C' or 'Errors_C' is greater than 0:\")\n",
    "            # for class_name in unique_classes:\n",
    "            #     print(class_name)\n",
    "            return unique_classes\n",
    "        else:\n",
    "            print(\"No unique 'Class Name' columns found for which either 'Failure_C' or 'Errors_C' is greater than 0.\")\n",
    "            return []\n",
    "    except Exception as e:\n",
    "        print(f\"An error occurred: {e}\")\n",
    "\n",
    "# Example usage\n",
    "google_sheets_url = 'https://docs.google.com/spreadsheets/d/1kMP-sG4JUw97mLs_fwXse3vZta2YNItA4n7MmBLnUSg/edit#gid=952791274'\n",
    "\n"
   ]
  },
  {
   "cell_type": "code",
   "execution_count": null,
   "id": "96e1d37a-92f8-403f-b09b-1cbc428d4df2",
   "metadata": {},
   "outputs": [],
   "source": []
  },
  {
   "cell_type": "code",
   "execution_count": null,
   "id": "cbdb86b5-7d8a-4129-bc3a-c523f227ecc6",
   "metadata": {},
   "outputs": [],
   "source": []
  },
  {
   "cell_type": "code",
   "execution_count": 47,
   "id": "f2eba85c-0b8a-439a-b255-b17950a3822b",
   "metadata": {},
   "outputs": [
    {
     "name": "stdout",
     "output_type": "stream",
     "text": [
      "Unique 'Class Name' columns for which either 'Failure_C' or 'Errors_C' is greater than 0:\n",
      "25 MD files have been generated\n"
     ]
    }
   ],
   "source": [
    "def write_tests_in_class(tests_in_class, file_name):\n",
    "    \"\"\"\n",
    "    Generate a Markdown file with the provided row values.\n",
    "    \n",
    "    Args:\n",
    "    - row_values: List containing the values for a single row.\n",
    "    - file_name: Name of the file to be generated.\n",
    "    \"\"\"\n",
    "    with open(file_name, 'w') as f:\n",
    "        for test in tests_in_class:\n",
    "            f.write(\"| Module Path | Class Name | Test Name | Failures | Errors |\\n\")\n",
    "            f.write(\"| :----------- | :--------- | :-------- | :------- | :----- |\\n\")\n",
    "            f.write(f\"| {test[0]} | {test[1]} | {test[2]} | {test[3]} | {test[4]} |\\n\")\n",
    "            f.write(\"\\n\")\n",
    "            f.write(\"**Reason(s) for Failure(s):**\")\n",
    "            f.write(\"\\n\" *2)\n",
    "            f.write(\"\\n\")\n",
    "            f.write(\"**Potential fixes:**\")\n",
    "            f.write(\"\\n\"*10)\n",
    "            f.write(\"<br>\"*2)\n",
    "            f.write(\"\\n\")\n",
    "            f.write(\"________\")\n",
    "            f.write(\"\\n\")\n",
    "\n",
    "def get_tests_info(sheet_url, unique_class_names):\n",
    "    try:\n",
    "        # Connect to Google Sheets API\n",
    "        scope = ['https://spreadsheets.google.com/feeds', 'https://www.googleapis.com/auth/drive']\n",
    "        creds = ServiceAccountCredentials.from_json_keyfile_name('credentials.json', scope)\n",
    "        client = gspread.authorize(creds)\n",
    "        \n",
    "        # Open the Google Sheets document\n",
    "        sheet = client.open_by_url(sheet_url)\n",
    "        existing_worksheet = sheet.get_worksheet(0)  # Assuming data is in the first worksheet\n",
    "        \n",
    "        # Get all values from the existing sheet\n",
    "        all_data = existing_worksheet.get_all_records(empty2zero=True, head=1)\n",
    "\n",
    "        for class_ in unique_class_names:\n",
    "            tests_in_class = [row for row in all_data if row['Class Name'] == class_]\n",
    "            tests_in_class = sorted(tests_in_class, key=lambda x: x['Failure_C'] + x['Errors_C'], reverse=True)\n",
    "            if tests_in_class is None:\n",
    "                print(\"No data found for the provided class names.\")\n",
    "                return\n",
    "            \n",
    "            # format [['Module Path', 'Class Name', 'TestName', 'Failure_C', 'Errors_C']]\n",
    "            data_to_write = []\n",
    "            for row in tests_in_class:\n",
    "                data_to_write.append([row['Module Path'], row['Class Name'], row['TestName'], row['Failure_C'], row['Errors_C']])\n",
    "            write_tests_in_class(data_to_write, class_+\".md\") \n",
    "        \n",
    "        print(\"{} MD files have been generated\".format(len(unique_class_names)))\n",
    "    except Exception as e:\n",
    "        print(f\"An error occurred: {e}\")\n",
    "\n",
    "google_sheets_url = 'https://docs.google.com/spreadsheets/d/1kMP-sG4JUw97mLs_fwXse3vZta2YNItA4n7MmBLnUSg/edit#gid=952791274'\n",
    "unique_classes = uniqueClasses = find_unique_classes_with_failures_or_errors(google_sheets_url)\n",
    "get_tests_info(google_sheets_url, unique_classes)"
   ]
  }
 ],
 "metadata": {
  "kernelspec": {
   "display_name": "Python 3 (ipykernel)",
   "language": "python",
   "name": "python3"
  },
  "language_info": {
   "codemirror_mode": {
    "name": "ipython",
    "version": 3
   },
   "file_extension": ".py",
   "mimetype": "text/x-python",
   "name": "python",
   "nbconvert_exporter": "python",
   "pygments_lexer": "ipython3",
   "version": "3.9.6"
  }
 },
 "nbformat": 4,
 "nbformat_minor": 5
}
